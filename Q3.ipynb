{
  "cells": [
    {
      "cell_type": "markdown",
      "id": "5f42a3ce",
      "metadata": {
        "id": "5f42a3ce"
      },
      "source": [
        "<h1 align=\"center\">Introduction to Machine Learning - 25737-2</h1>\n",
        "<h4 align=\"center\">Dr. R. Amiri</h4>\n",
        "<h4 align=\"center\">Sharif University of Technology, Spring 2024</h4>\n",
        "\n",
        "\n",
        "**<font color='red'>Plagiarism is strongly prohibited!</font>**\n",
        "\n",
        "\n",
        "**Student Name**: Nikoo Moradi\n",
        "\n",
        "**Student ID**: 400101934\n",
        "\n",
        "\n",
        "\n"
      ]
    },
    {
      "cell_type": "markdown",
      "id": "a01c559e",
      "metadata": {
        "id": "a01c559e"
      },
      "source": [
        "## Importing Libraries\n",
        "\n",
        "First we import libraries that we need for this assignment."
      ]
    },
    {
      "cell_type": "code",
      "execution_count": null,
      "id": "0423187e",
      "metadata": {
        "id": "0423187e"
      },
      "outputs": [],
      "source": [
        "import numpy as np\n",
        "import pandas as pd\n",
        "import matplotlib.pyplot as plt\n",
        "from sklearn.model_selection import train_test_split\n",
        "from sklearn.naive_bayes import GaussianNB\n",
        "from sklearn.metrics import accuracy_score\n",
        "from mpl_toolkits.mplot3d import Axes3D\n",
        "from sklearn.discriminant_analysis import LinearDiscriminantAnalysis\n",
        "from sklearn.metrics import accuracy_score\n",
        "\n",
        "# import any other libraries needed below\n"
      ]
    },
    {
      "cell_type": "markdown",
      "id": "2f795731",
      "metadata": {
        "id": "2f795731"
      },
      "source": [
        "## Reading Data and Preprocessing\n",
        "\n",
        "In this section, we want to read data from a CSV file and then preprocess it to make it ready for the rest of the problem.\n",
        "\n",
        "First, we read the data in the cell below and extract an $m \\times n$ matrix, $X$, and an $m \\times 1$ vector, $Y$, from it, which represent our knowledge about the features of the data (`X1`, `X2`, `X3`) and the class (`Y`), respectively. Note that by $m$, we mean the number of data points and by $n$, we mean the number of features."
      ]
    },
    {
      "cell_type": "code",
      "execution_count": null,
      "id": "410e750d",
      "metadata": {
        "colab": {
          "base_uri": "https://localhost:8080/"
        },
        "id": "410e750d",
        "outputId": "fc59aeb3-04c9-4505-ac64-711d777c55e0"
      },
      "outputs": [
        {
          "output_type": "stream",
          "name": "stdout",
          "text": [
            "(10000, 4)\n",
            "<class 'pandas.core.frame.DataFrame'>\n",
            "RangeIndex: 10000 entries, 0 to 9999\n",
            "Data columns (total 4 columns):\n",
            " #   Column  Non-Null Count  Dtype  \n",
            "---  ------  --------------  -----  \n",
            " 0   X1      10000 non-null  float64\n",
            " 1   X2      10000 non-null  float64\n",
            " 2   X3      10000 non-null  float64\n",
            " 3   Y       10000 non-null  int64  \n",
            "dtypes: float64(3), int64(1)\n",
            "memory usage: 312.6 KB\n",
            "None\n",
            "Index(['X1', 'X2', 'X3', 'Y'], dtype='object')\n",
            "(10000, 3)\n",
            "(10000,)\n"
          ]
        }
      ],
      "source": [
        "X, Y = None, None\n",
        "\n",
        "### START CODE HERE ###\n",
        "df = pd.read_csv('/content/data3_logistic.csv')\n",
        "print(df.shape)\n",
        "print(df.info())\n",
        "print(df.columns)\n",
        "\n",
        "X = df.drop('Y',axis = 1)\n",
        "Y = df[\"Y\"]\n",
        "\n",
        "\n",
        "### END CODE HERE ###\n",
        "\n",
        "print(X.shape)\n",
        "print(Y.shape)"
      ]
    },
    {
      "cell_type": "markdown",
      "id": "866734e2",
      "metadata": {
        "id": "866734e2"
      },
      "source": [
        "Next, we should normalize our data. For normalizing a vector $\\mathbf{x}$, a very common method is to use this formula:\n",
        "\n",
        "$$\n",
        "\\mathbf{x}_{norm} = \\dfrac{\\mathbf{x} - \\overline{\\mathbf{x}}}{\\sigma_\\mathbf{x}}\n",
        "$$\n",
        "\n",
        "Here, $\\overline{x}$ and $\\sigma_\\mathbf{x}$ denote the mean and standard deviation of vector $\\mathbf{x}$, respectively. Use this formula and store the new $X$ and $Y$ vectors in the cell below.\n",
        "\n",
        "**Question**: Briefly explain why we need to normalize our data before starting the training.\n",
        "\n",
        "**Answer**:\n",
        "_____\n",
        "Normalizing the data helps in achieving faster convergence during the training process. It ensures that all features have similar scales, preventing some features from dominating others, which can lead to biased learning. Additionally, normalization can make the optimization algorithm more stable and can help prevent numerical overflow or underflow issues.\n",
        "_____"
      ]
    },
    {
      "cell_type": "code",
      "execution_count": null,
      "id": "9e757eb0",
      "metadata": {
        "id": "9e757eb0",
        "outputId": "82e3ac4d-c539-4697-ab7b-7887dc5d5f2b",
        "colab": {
          "base_uri": "https://localhost:8080/"
        }
      },
      "outputs": [
        {
          "output_type": "stream",
          "name": "stdout",
          "text": [
            "X1    403.996923\n",
            "X2     28.790204\n",
            "X3     24.446095\n",
            "dtype: float64\n",
            "X1    289.073148\n",
            "X2     79.486724\n",
            "X3     40.854263\n",
            "dtype: float64\n"
          ]
        }
      ],
      "source": [
        "### START CODE HERE ###\n",
        "X_col_means = np.mean(X, axis=0)\n",
        "print(X_col_means)\n",
        "X_col_std = np.std(X, axis=0)\n",
        "print(X_col_std)\n",
        "\n",
        "X = (X - X_col_means)/X_col_std\n",
        "\n",
        "### END CODE HERE ###"
      ]
    },
    {
      "cell_type": "markdown",
      "id": "5465bfa4",
      "metadata": {
        "id": "5465bfa4"
      },
      "source": [
        "Finally, we should add a column of $1$s at the beginning of $X$ to represent the bias term. Do this in the next cell. Note that after this process, $X$ should be an $m \\times (n+1)$ matrix."
      ]
    },
    {
      "cell_type": "code",
      "execution_count": null,
      "id": "b9a60f1f",
      "metadata": {
        "id": "b9a60f1f",
        "outputId": "ddaac498-6898-4cab-e300-641241287186",
        "colab": {
          "base_uri": "https://localhost:8080/"
        }
      },
      "outputs": [
        {
          "output_type": "stream",
          "name": "stdout",
          "text": [
            "(10000, 4)\n",
            "      bias        X1        X2        X3\n",
            "0        1 -1.493255 -1.169104 -0.832399\n",
            "1        1 -0.875916 -0.750951  0.961525\n",
            "2        1  0.723119  0.332156 -0.707816\n",
            "3        1  1.052900 -0.149101  0.642972\n",
            "4        1  0.769855  0.016314  0.769466\n",
            "...    ...       ...       ...       ...\n",
            "9995     1 -1.328965 -1.254817 -0.168696\n",
            "9996     1  1.060871 -1.719050 -0.059901\n",
            "9997     1 -0.608670  0.515147 -1.440228\n",
            "9998     1  0.291258  0.252868 -1.970691\n",
            "9999     1 -1.714366  1.222658 -0.131426\n",
            "\n",
            "[10000 rows x 4 columns]\n"
          ]
        }
      ],
      "source": [
        "### START CODE HERE ###\n",
        "bias = np.ones((X.shape[0],1))\n",
        "X.insert(0, 'bias', 1)\n",
        "\n",
        "### END CODE HERE ###\n",
        "\n",
        "print(X.shape)\n",
        "print(X)"
      ]
    },
    {
      "cell_type": "markdown",
      "id": "5cdf0d78",
      "metadata": {
        "id": "5cdf0d78"
      },
      "source": [
        "## Training Model"
      ]
    },
    {
      "cell_type": "markdown",
      "id": "c8714abe",
      "metadata": {
        "id": "c8714abe"
      },
      "source": [
        "### Sigmoid Function\n",
        "You should begin by implementing the $\\sigma(\\mathbf{x})$ function. Recall that the logistic regression hypothesis $\\mathcal{h}()$ is defined as:\n",
        "$$\n",
        "\\mathcal{h}_{\\theta}(\\mathbf{x}) = \\mathcal{g}(\\theta^\\mathbf{T}\\mathbf{x})\n",
        "$$\n",
        "where $\\mathcal{g}()$ is the sigmoid function as:\n",
        "$$\n",
        "\\mathcal{g}(\\mathbf{z}) = \\frac{1}{1+exp^{-\\mathbf{z}}}\n",
        "$$\n",
        "The Sigmoid function has the property that $\\mathbf{g}(+\\infty)\\approx 1$ and $\\mathcal{g}(−\\infty)\\approx0$. Test your function by calling `sigmoid(z)` on different test samples. Be certain that your sigmoid function works with both vectors and matrices - for either a vector or a matrix, your function should perform the sigmoid function on every element."
      ]
    },
    {
      "cell_type": "code",
      "execution_count": null,
      "id": "6a6b6ae4",
      "metadata": {
        "id": "6a6b6ae4"
      },
      "outputs": [],
      "source": [
        "def sigmoid(Z):\n",
        "    '''\n",
        "    Applies the sigmoid function on every element of Z\n",
        "    Arguments:\n",
        "        Z can be a (n,) vector or (n , m) matrix\n",
        "    Returns:\n",
        "        A vector/matrix, same shape with Z, that has the sigmoid function applied elementwise\n",
        "    '''\n",
        "    ### START CODE HERE ###\n",
        "    return 1 / (1 + np.exp(-Z))\n",
        "\n",
        "    ### END CODE HERE ###"
      ]
    },
    {
      "cell_type": "markdown",
      "id": "83846074",
      "metadata": {
        "id": "83846074"
      },
      "source": [
        "### Cost Function\n",
        "Implement the functions to compute the cost function. Recall the cost function for logistic regression is a scalar value given by:\n",
        "$$\n",
        "\\mathcal{J}(\\theta) = \\sum_{i=1}^{n}[-y^{(i)}\\log{(\\mathcal{h}_\\theta(\\mathbf{x}^{(i)}))}-(1-y^{(i)})\\log{(1-\\mathcal{h}_\\theta(\\mathbf{x}^{(i)}))}] + \\frac{\\lambda}{2}||\\theta||_2^2\n",
        "$$"
      ]
    },
    {
      "cell_type": "code",
      "execution_count": null,
      "id": "26a9bdeb",
      "metadata": {
        "id": "26a9bdeb"
      },
      "outputs": [],
      "source": [
        "def computeCost(theta, X, y, regLambda):\n",
        "    '''\n",
        "    Computes the objective function\n",
        "    Arguments:\n",
        "        theta is d-dimensional numpy vector\n",
        "        X is a n-by-d numpy matrix\n",
        "        y is an n-dimensional numpy vector\n",
        "        regLambda is the scalar regularization constant\n",
        "    Returns:\n",
        "        a scalar value of the cost  ** make certain you're not returning a 1 x 1 matrix! **\n",
        "    '''\n",
        "\n",
        "    m, n = X.shape\n",
        "    loss = None\n",
        "    ### START CODE HERE ###\n",
        "    z = np.dot(X, theta)\n",
        "    h = sigmoid(z)\n",
        "\n",
        "    term1 = y* np.log(h)\n",
        "    term2 = (1 - y) * np.log(1 - h)\n",
        "    loss = -np.sum(term1 + term2) / m\n",
        "\n",
        "    reg_cost = (regLambda / (2 * m)) * np.sum(theta[1:]**2)\n",
        "\n",
        "\n",
        "    loss = loss + reg_cost\n",
        "\n",
        "\n",
        "    ### END CODE HERE ###\n",
        "    return loss"
      ]
    },
    {
      "cell_type": "markdown",
      "id": "6eaf1146",
      "metadata": {
        "id": "6eaf1146"
      },
      "source": [
        "### Gradient of the Cost Function\n",
        "Now, we want to calculate the gradient of the cost function. The gradient of the cost function is a d-dimensional vector.\\\n",
        "We must be careful not to regularize the $\\theta_0$ parameter (corresponding to the first feature we add to each instance), and so the 0's element is given by:\n",
        "$$\n",
        "\\frac{\\partial \\mathcal{J}(\\theta)}{\\partial \\theta_0} = \\sum_{i=1}^n (\\mathcal{h}_\\theta(\\mathbf{x}^{(i)})-y^{(i)})\n",
        "$$\n",
        "\n",
        "Question: What is the answer to this problem for the $j^{th}$ element (for $j=1...d$)?\n",
        "\n",
        "Answer:\n",
        "\n",
        "---\n",
        "\n",
        "The answer to this problem for the $(j^{th})$ element (for \\(j=1...d\\)) of the gradient of the logistic regression cost function, where the regularization is included for $(j \\geq 1)$, is given by:\n",
        "\n",
        "$$\\frac{\\partial \\mathcal{J}(\\theta)}{\\partial \\theta_j} = \\left( \\frac{1}{m} \\sum_{i=1}^n (\\mathcal{h}_\\theta(\\mathbf{x}^{(i)}) - y^{(i)}) x^{(i)}_j \\right) + \\frac{\\lambda}{m} \\theta_j $$\n",
        "\n",
        "This formula indicates that the gradient for each parameter $(\\theta_j)$ consists of two parts:\n",
        "1. **Prediction Error Contribution:** The average over all training examples of the product of the prediction error $(\\mathcal{h}_\\theta(\\mathbf{x}^{(i)}) - y^{(i)})$ and the feature value $x^{(i)}_j$.\n",
        "2. **Regularization Term:** The regularization term, $\\frac{\\lambda}{m} \\theta_j$, which penalizes the magnitude of $\\theta_j$ to avoid overfitting. This term does not apply to $\\theta_0$, ensuring that the bias term is not regularized.\n",
        "\n",
        "---\n",
        "\n"
      ]
    },
    {
      "cell_type": "code",
      "execution_count": null,
      "id": "35f7c2dd",
      "metadata": {
        "id": "35f7c2dd"
      },
      "outputs": [],
      "source": [
        "def computeGradient(theta, X, y, regLambda):\n",
        "    '''\n",
        "    Computes the gradient of the objective function\n",
        "    Arguments:\n",
        "        theta is d-dimensional numpy vector\n",
        "        X is a n-by-d numpy matrix\n",
        "        y is an n-dimensional numpy vector\n",
        "        regLambda is the scalar regularization constant\n",
        "    Returns:\n",
        "        the gradient, an d-dimensional vector\n",
        "    '''\n",
        "\n",
        "    m, n = X.shape\n",
        "    grad = None\n",
        "    ### START CODE HERE ###\n",
        "\n",
        "    z = np.dot(X, theta)\n",
        "    h = sigmoid(z)\n",
        "\n",
        "    error = (h - y)/m\n",
        "\n",
        "    grad = np.dot(X.T, error)\n",
        "\n",
        "    reg_term = (regLambda / m) * theta\n",
        "    reg_term[0] = 0\n",
        "\n",
        "    grad += reg_term\n",
        "\n",
        "    ### END CODE HERE ###\n",
        "    return grad"
      ]
    },
    {
      "cell_type": "markdown",
      "id": "24bc86bd",
      "metadata": {
        "id": "24bc86bd"
      },
      "source": [
        "### Training and Prediction\n",
        "Once you have the cost and gradient functions complete, implemen tthe fit and predict methods.\\\n",
        "Your fit method should train the model via gradient descent, relying on the cost and gradient functions. This function should return two parameters. The first parameter is $\\theta$, and the second parameter is a `numpy` array that contains the loss in each iteration. This array is indicated by `loss_history` in the code.\\\n",
        "Instead of simply running gradient descent for a specific number of iterations, we will use a more sophisticated method: we will stop it after the solution hasconverged. Stop the gradient descent procedure when $\\theta$ stops changing between consecutive iterations. You can detect this convergence when:\n",
        "$$\n",
        "||\\theta_{new}-\\theta_{old}||_2 <= \\epsilon,\n",
        "$$\n",
        "for some small $\\epsilon$ (e.g, $\\epsilon=10E-4$).\\\n",
        "For readability, we’d recommend implementing this convergence test as a dedicated function `hasConverged`."
      ]
    },
    {
      "cell_type": "code",
      "execution_count": null,
      "id": "cc0cad78",
      "metadata": {
        "id": "cc0cad78"
      },
      "outputs": [],
      "source": [
        "def fit(X, y, regLambda = 0.01, alpha = 0.01, epsilon = 1e-4, maxNumIters = 100):\n",
        "    '''\n",
        "    Trains the model\n",
        "    Arguments:\n",
        "        X           is a n-by-d numpy matrix\n",
        "        y           is an n-dimensional numpy vector\n",
        "        maxNumIters is the maximum number of gradient descent iterations\n",
        "        regLambda   is the scalar regularization constant\n",
        "        epsilon     is the convergence rate\n",
        "        alpha       is the gradient descent learning rate\n",
        "    '''\n",
        "\n",
        "    m, n = X.shape\n",
        "    theta, loss_history = None, None\n",
        "    ### START CODE HERE ###\n",
        "    theta = np.zeros(n)\n",
        "    loss_history = []\n",
        "\n",
        "    for _ in range(maxNumIters):\n",
        "        theta_old = np.copy(theta)\n",
        "        gradient = computeGradient(theta, X, y, regLambda)\n",
        "        theta -= alpha * gradient\n",
        "        loss = computeCost(theta, X, y, regLambda)\n",
        "        loss_history.append(loss)\n",
        "\n",
        "        if hasConverged(theta_old, theta, epsilon):\n",
        "            break\n",
        "\n",
        "    ### END CODE HERE ###\n",
        "    return theta, loss_history\n",
        "\n",
        "\n",
        "\n",
        "\n",
        "def hasConverged(theta_old, theta_new, epsilon):\n",
        "    '''\n",
        "    Return if the theta converged or not\n",
        "    Arguments:\n",
        "        theta_old   is the theta calculated in prevoius iteration\n",
        "        theta_new   is the theta calculated in current iteration\n",
        "        epsilon     is the convergence rate\n",
        "    '''\n",
        "\n",
        "    ### START CODE HERE ###\n",
        "    e = np.linalg.norm(theta_new - theta_old, 2)\n",
        "    if e <= epsilon:\n",
        "      return True\n",
        "    else:\n",
        "      return False\n",
        "    ### END CODE HERE ###\n"
      ]
    },
    {
      "cell_type": "markdown",
      "id": "bb648852",
      "metadata": {
        "id": "bb648852"
      },
      "source": [
        "Finally, we want to evaluate our loss for this problem. Complete the cell below to calculate and print the loss of each iteration and the final theta of your model."
      ]
    },
    {
      "cell_type": "code",
      "execution_count": null,
      "id": "252e556f",
      "metadata": {
        "id": "252e556f",
        "outputId": "8631f09a-bc9d-4461-d7b2-f4f762adc307",
        "colab": {
          "base_uri": "https://localhost:8080/"
        }
      },
      "outputs": [
        {
          "output_type": "stream",
          "name": "stdout",
          "text": [
            "Iteration 1: Loss = 0.6916080637617288\n",
            "Iteration 2: Loss = 0.6900767197648195\n",
            "Iteration 3: Loss = 0.688553109129314\n",
            "Iteration 4: Loss = 0.6870371924712132\n",
            "Iteration 5: Loss = 0.6855289304654586\n",
            "Iteration 6: Loss = 0.6840282838489138\n",
            "Iteration 7: Loss = 0.6825352134232974\n",
            "Iteration 8: Loss = 0.6810496800580603\n",
            "Iteration 9: Loss = 0.6795716446932114\n",
            "Iteration 10: Loss = 0.6781010683420922\n",
            "Iteration 11: Loss = 0.6766379120940973\n",
            "Iteration 12: Loss = 0.6751821371173446\n",
            "Iteration 13: Loss = 0.6737337046612927\n",
            "Iteration 14: Loss = 0.6722925760593064\n",
            "Iteration 15: Loss = 0.6708587127311715\n",
            "Iteration 16: Loss = 0.669432076185557\n",
            "Iteration 17: Loss = 0.6680126280224278\n",
            "Iteration 18: Loss = 0.666600329935405\n",
            "Iteration 19: Loss = 0.6651951437140757\n",
            "Iteration 20: Loss = 0.6637970312462537\n",
            "Iteration 21: Loss = 0.6624059545201885\n",
            "Iteration 22: Loss = 0.6610218756267254\n",
            "Iteration 23: Loss = 0.6596447567614165\n",
            "Iteration 24: Loss = 0.6582745602265805\n",
            "Iteration 25: Loss = 0.6569112484333165\n",
            "Iteration 26: Loss = 0.6555547839034666\n",
            "Iteration 27: Loss = 0.6542051292715321\n",
            "Iteration 28: Loss = 0.6528622472865415\n",
            "Iteration 29: Loss = 0.651526100813871\n",
            "Iteration 30: Loss = 0.6501966528370174\n",
            "Iteration 31: Loss = 0.6488738664593255\n",
            "Iteration 32: Loss = 0.6475577049056686\n",
            "Iteration 33: Loss = 0.646248131524083\n",
            "Iteration 34: Loss = 0.6449451097873584\n",
            "Iteration 35: Loss = 0.6436486032945814\n",
            "Iteration 36: Loss = 0.6423585757726363\n",
            "Iteration 37: Loss = 0.6410749910776616\n",
            "Iteration 38: Loss = 0.6397978131964611\n",
            "Iteration 39: Loss = 0.6385270062478753\n",
            "Iteration 40: Loss = 0.6372625344841062\n",
            "Iteration 41: Loss = 0.6360043622920036\n",
            "Iteration 42: Loss = 0.6347524541943074\n",
            "Iteration 43: Loss = 0.6335067748508493\n",
            "Iteration 44: Loss = 0.6322672890597141\n",
            "Iteration 45: Loss = 0.6310339617583609\n",
            "Iteration 46: Loss = 0.6298067580247038\n",
            "Iteration 47: Loss = 0.6285856430781542\n",
            "Iteration 48: Loss = 0.6273705822806247\n",
            "Iteration 49: Loss = 0.6261615411374928\n",
            "Iteration 50: Loss = 0.6249584852985303\n",
            "Iteration 51: Loss = 0.6237613805587917\n",
            "Iteration 52: Loss = 0.6225701928594698\n",
            "Iteration 53: Loss = 0.6213848882887113\n",
            "Iteration 54: Loss = 0.6202054330824006\n",
            "Iteration 55: Loss = 0.6190317936249053\n",
            "Iteration 56: Loss = 0.6178639364497892\n",
            "Iteration 57: Loss = 0.61670182824049\n",
            "Iteration 58: Loss = 0.6155454358309641\n",
            "Iteration 59: Loss = 0.614394726206299\n",
            "Iteration 60: Loss = 0.6132496665032912\n",
            "Iteration 61: Loss = 0.6121102240109941\n",
            "Iteration 62: Loss = 0.6109763661712336\n",
            "Iteration 63: Loss = 0.6098480605790928\n",
            "Iteration 64: Loss = 0.6087252749833656\n",
            "Iteration 65: Loss = 0.6076079772869826\n",
            "Iteration 66: Loss = 0.6064961355474044\n",
            "Iteration 67: Loss = 0.6053897179769882\n",
            "Iteration 68: Loss = 0.6042886929433259\n",
            "Iteration 69: Loss = 0.6031930289695525\n",
            "Iteration 70: Loss = 0.6021026947346302\n",
            "Iteration 71: Loss = 0.6010176590736016\n",
            "Iteration 72: Loss = 0.5999378909778209\n",
            "Iteration 73: Loss = 0.5988633595951551\n",
            "Iteration 74: Loss = 0.5977940342301623\n",
            "Iteration 75: Loss = 0.5967298843442448\n",
            "Iteration 76: Loss = 0.5956708795557765\n",
            "Iteration 77: Loss = 0.5946169896402075\n",
            "Iteration 78: Loss = 0.5935681845301449\n",
            "Iteration 79: Loss = 0.5925244343154097\n",
            "Iteration 80: Loss = 0.5914857092430736\n",
            "Iteration 81: Loss = 0.5904519797174698\n",
            "Iteration 82: Loss = 0.5894232163001856\n",
            "Iteration 83: Loss = 0.5883993897100321\n",
            "Iteration 84: Loss = 0.5873804708229946\n",
            "Iteration 85: Loss = 0.5863664306721597\n",
            "Iteration 86: Loss = 0.5853572404476263\n",
            "Iteration 87: Loss = 0.5843528714963945\n",
            "Iteration 88: Loss = 0.5833532953222365\n",
            "Iteration 89: Loss = 0.5823584835855492\n",
            "Iteration 90: Loss = 0.5813684081031879\n",
            "Iteration 91: Loss = 0.5803830408482832\n",
            "Iteration 92: Loss = 0.5794023539500391\n",
            "Iteration 93: Loss = 0.5784263196935167\n",
            "Iteration 94: Loss = 0.5774549105193981\n",
            "Iteration 95: Loss = 0.5764880990237378\n",
            "Iteration 96: Loss = 0.5755258579576947\n",
            "Iteration 97: Loss = 0.5745681602272529\n",
            "Iteration 98: Loss = 0.573614978892923\n",
            "Iteration 99: Loss = 0.5726662871694336\n",
            "Iteration 100: Loss = 0.5717220584254035\n",
            "Final theta: [-0.06069489 -0.16557965  0.29972024  0.00508142]\n"
          ]
        }
      ],
      "source": [
        "theta, loss_history = fit(X, Y) # calculating theta and loss of each iteration\n",
        "\n",
        "### START CODE HERE ###\n",
        "\n",
        "for i, loss in enumerate(loss_history):\n",
        "    print(f\"Iteration {i+1}: Loss = {loss}\")\n",
        "\n",
        "print(f\"Final theta: {theta}\")\n",
        "\n",
        "### END CODE HERE ###"
      ]
    },
    {
      "cell_type": "markdown",
      "id": "f4b3fab6",
      "metadata": {
        "id": "f4b3fab6"
      },
      "source": [
        "### Testing Your Implementation\n",
        "To test your logistic regression implementation, first you should use `train_test_split` function to split dataset into three parts:\n",
        "\n",
        "- 70% for the training set\n",
        "- 20% for the validation set\n",
        "- 10% for the test set\n",
        "\n",
        "Do this in the cell below."
      ]
    },
    {
      "cell_type": "code",
      "execution_count": null,
      "id": "4518fe11",
      "metadata": {
        "id": "4518fe11",
        "outputId": "a58413f9-841e-44d7-f2eb-a01ed6da73f4",
        "colab": {
          "base_uri": "https://localhost:8080/"
        }
      },
      "outputs": [
        {
          "output_type": "stream",
          "name": "stdout",
          "text": [
            "Train set :  (7000, 4) (7000,)\n",
            "Temperary set :  (3000, 4) (3000,)\n",
            "Validation set :  (2000, 4) (2000,)\n",
            "Test set :  (1000, 4) (1000,)\n"
          ]
        }
      ],
      "source": [
        "X_train, Y_train, X_val, Y_val, X_test, Y_test = None, None, None, None, None, None\n",
        "\n",
        "### START CODE HERE ###\n",
        "\n",
        "X_train, X_temp, Y_train, Y_temp = train_test_split(X,Y, test_size=0.3, random_state= 42)\n",
        "X_val, X_test, Y_val, Y_test = train_test_split(X_temp, Y_temp, test_size=1/3, random_state = 93)\n",
        "\n",
        "print(\"Train set : \",X_train.shape, Y_train.shape)\n",
        "print(\"Temperary set : \",X_temp.shape, Y_temp.shape)\n",
        "print(\"Validation set : \",X_val.shape, Y_val.shape)\n",
        "print(\"Test set : \",X_test.shape, Y_test.shape)\n",
        "\n",
        "### END CODE HERE ###"
      ]
    },
    {
      "cell_type": "markdown",
      "id": "f9fbe5d7",
      "metadata": {
        "id": "f9fbe5d7"
      },
      "source": [
        "Then, you should complete `predict` function to find the weight vector and the loss on the test data."
      ]
    },
    {
      "cell_type": "code",
      "execution_count": null,
      "id": "95c2fe20",
      "metadata": {
        "id": "95c2fe20"
      },
      "outputs": [],
      "source": [
        "def predict(X, theta):\n",
        "    '''\n",
        "    Use the model to predict values for each instance in X\n",
        "    Arguments:\n",
        "        theta is d-dimensional numpy vector\n",
        "        X     is a n-by-d numpy matrix\n",
        "    Returns:\n",
        "        an n-dimensional numpy vector of the predictions, the output should be binary (use h_theta > .5)\n",
        "    '''\n",
        "\n",
        "    Y = None\n",
        "\n",
        "    ### START CODE HERE ###\n",
        "    Z = np.dot(X, theta)\n",
        "    h_theta = sigmoid(Z)\n",
        "\n",
        "    Y = (h_theta > 0.5).astype(int)\n",
        "\n",
        "    ### END CODE HERE ###\n",
        "    return Y"
      ]
    },
    {
      "cell_type": "markdown",
      "id": "246d1c02",
      "metadata": {
        "id": "246d1c02"
      },
      "source": [
        "Now, run the `fit` and `predict` function for different values of the learning rate and regularization constant. Plot the `loss_history` of these different values for train and test data both in the same figure.\n",
        "\n",
        "**Question**: Discuss the effect of the learning rate and regularization constant and find the best values of these parameters.\n",
        "\n",
        "**Answer**:\n",
        "_____\n",
        "**Effects of Learning Rate and Regularization:**\n",
        "\n",
        "*   **Learning Rate (α)**: Higher learning rates can lead to faster convergence but might overshoot the minimum, potentially causing divergence in loss during training. Lower learning rates ensure more stable convergence but might take many iterations to reach the minimum.\n",
        "*   **Regularization Constant (λ)**: Higher values of the regularization constant reduce overfitting by penalizing large weights but might lead to underfitting if set too high. Lower values may not adequately prevent overfitting.\n",
        "\n",
        "**Finding the Best Values:**\n",
        "\n",
        "*   Plotting the loss histories as described above can visually assist in determining which combinations of α\\\\alphaα and λ\\\\lambdaλ provide a good balance between convergence speed, stability, and generalization (as indicated by test loss). The \"best\" values will be those that result in the lowest test loss without showing signs of overfitting (where train loss is much lower than test loss).\n",
        "\n",
        "------"
      ]
    },
    {
      "cell_type": "code",
      "source": [
        "learning_rates = [0.001, 0.01, 0.1,1,2,5]\n",
        "regularization_constants = [0.001, 0.1,1]\n",
        "\n",
        "# Initialize a dictionary to store the combinations\n",
        "combo_dict = {}\n",
        "\n",
        "# Assign a unique number to each combination\n",
        "combo_num = 1\n",
        "for lr in learning_rates:\n",
        "    for reg_const in regularization_constants:\n",
        "        combo_dict[(lr, reg_const)] = combo_num\n",
        "        combo_num += 1\n",
        "\n",
        "# Access all combo numbers through combo_dict\n",
        "combo_nums = np.array(list(combo_dict.values()))\n",
        "print(\"All Combo Numbers:\", combo_nums)\n",
        "\n",
        "# Print the dictionary\n",
        "print(\"Combinations:\")\n",
        "for combo, num in combo_dict.items():\n",
        "    print(f\"Combo {num}: Learning Rate = {combo[0]}, Regularization Constant = {combo[1]}\")"
      ],
      "metadata": {
        "colab": {
          "base_uri": "https://localhost:8080/"
        },
        "id": "EPdzz0ZA7-EF",
        "outputId": "891637f0-a688-4d9b-d332-92212d6cd15e"
      },
      "id": "EPdzz0ZA7-EF",
      "execution_count": null,
      "outputs": [
        {
          "output_type": "stream",
          "name": "stdout",
          "text": [
            "All Combo Numbers: [ 1  2  3  4  5  6  7  8  9 10 11 12 13 14 15 16 17 18]\n",
            "Combinations:\n",
            "Combo 1: Learning Rate = 0.001, Regularization Constant = 0.001\n",
            "Combo 2: Learning Rate = 0.001, Regularization Constant = 0.1\n",
            "Combo 3: Learning Rate = 0.001, Regularization Constant = 1\n",
            "Combo 4: Learning Rate = 0.01, Regularization Constant = 0.001\n",
            "Combo 5: Learning Rate = 0.01, Regularization Constant = 0.1\n",
            "Combo 6: Learning Rate = 0.01, Regularization Constant = 1\n",
            "Combo 7: Learning Rate = 0.1, Regularization Constant = 0.001\n",
            "Combo 8: Learning Rate = 0.1, Regularization Constant = 0.1\n",
            "Combo 9: Learning Rate = 0.1, Regularization Constant = 1\n",
            "Combo 10: Learning Rate = 1, Regularization Constant = 0.001\n",
            "Combo 11: Learning Rate = 1, Regularization Constant = 0.1\n",
            "Combo 12: Learning Rate = 1, Regularization Constant = 1\n",
            "Combo 13: Learning Rate = 2, Regularization Constant = 0.001\n",
            "Combo 14: Learning Rate = 2, Regularization Constant = 0.1\n",
            "Combo 15: Learning Rate = 2, Regularization Constant = 1\n",
            "Combo 16: Learning Rate = 5, Regularization Constant = 0.001\n",
            "Combo 17: Learning Rate = 5, Regularization Constant = 0.1\n",
            "Combo 18: Learning Rate = 5, Regularization Constant = 1\n"
          ]
        }
      ]
    },
    {
      "cell_type": "code",
      "execution_count": null,
      "id": "cd2af382",
      "metadata": {
        "id": "cd2af382",
        "outputId": "40ed5f42-2816-4ca9-8a11-e0e4a8a5e0b5",
        "colab": {
          "base_uri": "https://localhost:8080/",
          "height": 1000
        }
      },
      "outputs": [
        {
          "output_type": "stream",
          "name": "stdout",
          "text": [
            "[91.3, 91.3, 91.3, 91.3, 91.3, 91.3, 91.5, 91.5, 91.5, 91.10000000000001, 91.10000000000001, 91.10000000000001, 91.2, 91.2, 91.2, 91.2, 91.2, 91.2]\n",
            "\n",
            "Best Model : 7 \n",
            "Learning rate =  0.1 \n",
            "Regularization Constant =  0.001\n"
          ]
        },
        {
          "output_type": "display_data",
          "data": {
            "text/plain": [
              "<Figure size 1000x600 with 1 Axes>"
            ],
            "image/png": "[encoded data removed]"
          },
          "metadata": {}
        },
        {
          "output_type": "display_data",
          "data": {
            "text/plain": [
              "<Figure size 640x480 with 1 Axes>"
            ],
            "image/png": "[encoded data removed]"
          },
          "metadata": {}
        }
      ],
      "source": [
        "\n",
        "\n",
        "### START CODE HERE ###\n",
        "\n",
        "\n",
        "train_loss_history = []\n",
        "test_loss_history = []\n",
        "plt.figure(figsize=(10,6))\n",
        "\n",
        "best_model = None\n",
        "accuracies = []\n",
        "lr_best_accuracy = 0\n",
        "best_combo = None\n",
        "best_test_loss = float('inf')\n",
        "model_num = 0\n",
        "\n",
        "for alpha in learning_rates:\n",
        "    for regLambda in regularization_constants:\n",
        "        model_num += 1\n",
        "        theta, loss_history_train = fit(X_train, Y_train, regLambda=regLambda, alpha=alpha)\n",
        "\n",
        "        Y_train_pred = predict(X_train, theta)\n",
        "        Y_test_pred = predict(X_test, theta)\n",
        "        lr_accuracy = accuracy_score(Y_test, Y_test_pred)\n",
        "        accuracies.append(lr_accuracy*100)\n",
        "\n",
        "        train_loss = computeCost(theta, X_train, Y_train, regLambda)\n",
        "        test_loss = computeCost(theta, X_test, Y_test, regLambda)\n",
        "\n",
        "        train_loss_history.append(train_loss)\n",
        "        test_loss_history.append(test_loss)\n",
        "\n",
        "        plt.plot(loss_history_train, label=f\"lr={alpha}, regLambda={regLambda}\")\n",
        "\n",
        "\n",
        "        #finding the best model\n",
        "        if lr_accuracy > lr_best_accuracy:\n",
        "            lr_best_accuracy = lr_accuracy\n",
        "            best_model = theta\n",
        "            best_combo = (model_num,alpha, regLambda)\n",
        "\n",
        "print(accuracies)\n",
        "print(\"\\nBest Model :\", best_combo[0],\"\\nLearning rate = \",best_combo[1],\"\\nRegularization Constant = \",best_combo[2])\n",
        "\n",
        "plt.title('Training Loss for Various Learning Rates and Regularization Constants')\n",
        "plt.xlabel('Num of Iterations')\n",
        "plt.ylabel('Loss')\n",
        "plt.legend()\n",
        "plt.grid()\n",
        "plt.show()\n",
        "\n",
        "\n",
        "plt.plot(combo_nums,train_loss_history, label='Train Loss')\n",
        "plt.plot(combo_nums,test_loss_history, label='Test Loss',linestyle='--')\n",
        "plt.xlabel('Different Params')\n",
        "plt.ylabel('Loss')\n",
        "plt.title('Loss History for Different Hyperparameters')\n",
        "plt.xlim([1,combo_num])\n",
        "plt.legend()\n",
        "plt.grid()\n",
        "plt.show()\n",
        "\n",
        "\n",
        "### END CODE HERE ###"
      ]
    },
    {
      "cell_type": "markdown",
      "id": "11babf15",
      "metadata": {
        "id": "11babf15"
      },
      "source": [
        "## Naive Bayes\n",
        "\n",
        "In this part, you will use the `GaussianNB` classifier to classify the data. You should not change the default parameters of this classifier. First, train the classifier on the training set and then find the accuracy of it on the test set.\n",
        "\n",
        "**Question**: What is the accuracy of this method on test set?\n",
        "\n",
        "**Answer**: 89.6 %"
      ]
    },
    {
      "cell_type": "code",
      "execution_count": null,
      "id": "1ef450fb",
      "metadata": {
        "id": "1ef450fb",
        "outputId": "d367c34c-a59e-4584-c891-df7646ccf5ce",
        "colab": {
          "base_uri": "https://localhost:8080/"
        }
      },
      "outputs": [
        {
          "output_type": "stream",
          "name": "stdout",
          "text": [
            "(7000, 4)\n",
            "Accuracy of GaussianNB classifier on test set: 89.60000000000001\n"
          ]
        }
      ],
      "source": [
        "### START CODE HERE ###\n",
        "print(X_train.shape)\n",
        "nb_classifier = GaussianNB()\n",
        "nb_classifier.fit(X_train, Y_train)\n",
        "\n",
        "Y_pred = nb_classifier.predict(X_test)\n",
        "\n",
        "nb_accuracy = accuracy_score(Y_test, Y_pred)\n",
        "print(\"Accuracy of GaussianNB classifier on test set:\", nb_accuracy*100)\n",
        "\n",
        "### END CODE HERE ###"
      ]
    },
    {
      "cell_type": "markdown",
      "id": "b371657d",
      "metadata": {
        "id": "b371657d"
      },
      "source": [
        "## LDA (Linear Discriminant Analysis)\n",
        "\n",
        "In this part, you will use the `LinearDiscriminantAnalysis` classifier to classify the data. You should not change the default parameters of this classifier. First, train the classifier on the training set and then find the accuracy of it on the test set.\n",
        "\n",
        "**Question**: What is the accuracy of this method on test set?\n",
        "\n",
        "**Answer**: 91.3 %"
      ]
    },
    {
      "cell_type": "code",
      "execution_count": null,
      "id": "92cc8743",
      "metadata": {
        "id": "92cc8743",
        "outputId": "660c8713-b03e-4bc3-bde8-7dcfd5b37b54",
        "colab": {
          "base_uri": "https://localhost:8080/"
        }
      },
      "outputs": [
        {
          "output_type": "stream",
          "name": "stdout",
          "text": [
            "Accuracy of LDA  classifier on test set: 91.3\n"
          ]
        }
      ],
      "source": [
        "### START CODE HERE ###\n",
        "from sklearn.discriminant_analysis import LinearDiscriminantAnalysis\n",
        "from sklearn.metrics import accuracy_score\n",
        "\n",
        "lda_classifier = LinearDiscriminantAnalysis()\n",
        "lda_classifier.fit(X_train, Y_train)\n",
        "\n",
        "Y_pred = lda_classifier.predict(X_test)\n",
        "\n",
        "lda_accuracy = accuracy_score(Y_test, Y_pred)\n",
        "print(\"Accuracy of LDA  classifier on test set:\", lda_accuracy*100)\n",
        "\n",
        "### END CODE HERE ###"
      ]
    },
    {
      "cell_type": "markdown",
      "id": "47736bdf",
      "metadata": {
        "id": "47736bdf"
      },
      "source": [
        "## Conclution\n",
        "\n",
        "**Question**: What is the best method for classifying this dataset? What is the best accuracy on the test set?\n",
        "\n",
        "**Answer**:\n",
        "\n",
        "Best method for classifying the dataset: Logistic Regression\n",
        "\n",
        "Best accuracy on the test set: 91.5 %\n"
      ]
    },
    {
      "cell_type": "code",
      "source": [
        "accuracies = {'Logistic Regression': lr_best_accuracy, 'Gaussian Naive Bayes': nb_accuracy, 'LDA': lda_accuracy}\n",
        "best_method = max(accuracies, key=accuracies.get)\n",
        "best_accuracy = accuracies[best_method]\n",
        "\n",
        "print(\"Accuracy of the best Logistic Regression on test set:\", lr_best_accuracy*100, \"\\nBest Learning rate = \",best_combo[1],\"\\nBest Regularization Constant = \",best_combo[2])\n",
        "print(\"\\nAccuracy of GaussianNB on test set:\", nb_accuracy*100)\n",
        "print(\"\\nAccuracy of LDA on test set:\", lda_accuracy*100)\n",
        "print(\"\\nBest method for classifying the dataset:\", best_method)\n",
        "print(\"Best accuracy on the test set:\", best_accuracy*100)"
      ],
      "metadata": {
        "colab": {
          "base_uri": "https://localhost:8080/"
        },
        "id": "dvZhLa4L1Y7h",
        "outputId": "a0900b04-2d84-481e-8f75-5a0d2bc75e61"
      },
      "id": "dvZhLa4L1Y7h",
      "execution_count": null,
      "outputs": [
        {
          "output_type": "stream",
          "name": "stdout",
          "text": [
            "Accuracy of the best Logistic Regression on test set: 91.5 \n",
            "Best Learning rate =  0.1 \n",
            "Best Regularization Constant =  0.001\n",
            "\n",
            "Accuracy of GaussianNB on test set: 89.60000000000001\n",
            "\n",
            "Accuracy of LDA on test set: 91.3\n",
            "\n",
            "Best method for classifying the dataset: Logistic Regression\n",
            "Best accuracy on the test set: 91.5\n"
          ]
        }
      ]
    }
  ],
  "metadata": {
    "kernelspec": {
      "display_name": "Python 3",
      "language": "python",
      "name": "python3"
    },
    "language_info": {
      "codemirror_mode": {
        "name": "ipython",
        "version": 3
      },
      "file_extension": ".py",
      "mimetype": "text/x-python",
      "name": "python",
      "nbconvert_exporter": "python",
      "pygments_lexer": "ipython3",
      "version": "3.10.12"
    },
    "vscode": {
      "interpreter": {
        "hash": "bd385fe162c5ca0c84973b7dd5c518456272446b2b64e67c2a69f949ca7a1754"
      }
    },
    "colab": {
      "provenance": []
    }
  },
  "nbformat": 4,
  "nbformat_minor": 5
}