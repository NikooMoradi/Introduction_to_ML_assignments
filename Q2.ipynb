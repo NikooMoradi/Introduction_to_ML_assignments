{
  "cells": [
    {
      "cell_type": "markdown",
      "metadata": {
        "id": "ChC3RF8meAlK"
      },
      "source": [
        "<h1 align=\"center\">Introduction to Machine Learning - 25737-2</h1>\n",
        "<h4 align=\"center\">Dr. R. Amiri</h4>\n",
        "<h4 align=\"center\">Sharif University of Technology, Spring 2024</h4>\n",
        "\n",
        "\n",
        "**<font color='red'>Plagiarism is strongly prohibited!</font>**\n",
        "\n",
        "\n",
        "**Student Name**: Nikoo Moradi\n",
        "\n",
        "**Student ID**: 400101934\n",
        "\n",
        "\n",
        "\n"
      ]
    },
    {
      "cell_type": "markdown",
      "metadata": {
        "id": "IraiR0SbeDi_"
      },
      "source": [
        "# Logistic Regression"
      ]
    },
    {
      "cell_type": "markdown",
      "metadata": {
        "id": "nRQjwWC3eDnc"
      },
      "source": [
        "**Task:** Implement your own Logistic Regression model, and test it on the given dataset of Logistic_question.csv!"
      ]
    },
    {
      "cell_type": "code",
      "execution_count": 77,
      "metadata": {
        "id": "LZRJrTdYawyP"
      },
      "outputs": [],
      "source": [
        "import numpy as np\n",
        "import torch\n",
        "import pandas as pd\n",
        "from torch.utils.data import DataLoader, TensorDataset\n",
        "from sklearn.model_selection import train_test_split\n",
        "import torch\n",
        "from torch.utils.data import DataLoader, TensorDataset\n",
        "from sklearn.model_selection import train_test_split\n",
        "from sklearn.preprocessing import StandardScaler\n",
        "from sklearn.metrics import accuracy_score, precision_score, recall_score, f1_score\n",
        "\n",
        "from sklearn.linear_model import LogisticRegression\n",
        "\n",
        "\n",
        "import torch\n",
        "import torch.nn as nn\n",
        "import torch.optim as optim\n"
      ]
    },
    {
      "cell_type": "code",
      "execution_count": 126,
      "metadata": {
        "id": "Mwuts3CBX-Qf"
      },
      "outputs": [],
      "source": [
        "# import necessary libraries\n",
        "\n",
        "    # Your code goes here!\n",
        "    # This class must have an __init__ method, a loss function, a fit function, and a predict function. You also need to make your code runnable on gpu!\n",
        "\n",
        "\n",
        "class MyLogisticRegression:\n",
        "    def __init__(self, lr=0.01, epochs=100, use_gpu=False):\n",
        "        self.lr = lr  # Learning rate\n",
        "        self.epochs = epochs  # Number of epochs for training\n",
        "        self.weights = None  # Weights for logistic regression, to be initialized later\n",
        "        self.use_gpu = use_gpu and torch.cuda.is_available()  # Use GPU if available and requested\n",
        "        if self.use_gpu:\n",
        "            self.device = torch.device(\"cuda\")\n",
        "        else:\n",
        "            self.device = torch.device(\"cpu\")\n",
        "\n",
        "    def sigmoid(self, z):\n",
        "        return 1 / (1 + torch.exp(-z))\n",
        "\n",
        "    def loss(self, h, y):\n",
        "        return -torch.mean(y * torch.log(h) + (1 - y) * torch.log(1 - h))\n",
        "\n",
        "    def fit(self, X_train, y_train, print_loss=True):\n",
        "        # Convert arrays to torch tensors\n",
        "        X_train = torch.tensor(X_train.astype(np.float32)).to(self.device)\n",
        "        y_train = torch.tensor(y_train.astype(np.float32)).to(self.device)\n",
        "\n",
        "        # Initialize weights\n",
        "        self.weights = torch.zeros(X_train.shape[1], dtype=torch.float32).to(self.device)\n",
        "        self.bias = torch.ones(1, dtype=torch.float32, device=self.device)\n",
        "\n",
        "        # Training loop\n",
        "        for epoch in range(self.epochs):\n",
        "            # Forward pass\n",
        "            z = torch.matmul(X_train, self.weights)\n",
        "            h = self.sigmoid(z + self.bias)\n",
        "            # Calculate loss\n",
        "            l = self.loss(h, y_train)\n",
        "\n",
        "            dW = torch.matmul(X_train.t(), (h - y_train)) / X_train.size(0)\n",
        "            db = torch.sum(h - y_train) / X_train.size(0)\n",
        "\n",
        "            self.weights -= self.lr * dW\n",
        "            self.bias -= self.lr * db\n",
        "\n",
        "            if print_loss and (epoch+1) % (self.epochs // 10) == 0:\n",
        "                print(f\"Epoch {epoch+1}/{self.epochs}, Loss: {l.item()}\")\n",
        "\n",
        "    def predict(self, X):\n",
        "        prob = self.predict_proba(X)\n",
        "        return (prob >= 0.5)  # Return 1 if prob is greater than or equal to 0.5 else 0\n",
        "\n",
        "    def predict_proba(self, X):\n",
        "        # Convert to tensor\n",
        "        X = torch.tensor(X.astype(np.float32)).to(self.device)\n",
        "        # Compute probability\n",
        "        z = torch.matmul(X, self.weights)\n",
        "        prob = self.sigmoid(z + self.bias)\n",
        "        return prob.detach()\n",
        "\n",
        "\n"
      ]
    },
    {
      "cell_type": "markdown",
      "metadata": {
        "id": "S-i-oubUlZ6e"
      },
      "source": [
        "**Task:** Test your model on the given dataset. You must split your data into train and test, with a 0.2 split, then normalize your data using X_train data. Finally, report 4 different evaluation metrics of the model on the test set. (You might want to first make the Target column binary!)"
      ]
    },
    {
      "cell_type": "code",
      "execution_count": 72,
      "metadata": {
        "id": "0KXzIy_2u-pG",
        "colab": {
          "base_uri": "https://localhost:8080/"
        },
        "outputId": "f96110d1-eded-43d2-f436-4084888f83b2"
      },
      "outputs": [
        {
          "output_type": "stream",
          "name": "stdout",
          "text": [
            "Shape of the dataset: (400, 8)\n",
            "\n",
            "\n",
            "Dataset information:\n",
            "<class 'pandas.core.frame.DataFrame'>\n",
            "RangeIndex: 400 entries, 0 to 399\n",
            "Data columns (total 8 columns):\n",
            " #   Column     Non-Null Count  Dtype  \n",
            "---  ------     --------------  -----  \n",
            " 0   Feature 1  400 non-null    int64  \n",
            " 1   Feature 2  400 non-null    float64\n",
            " 2   Feature 3  400 non-null    int64  \n",
            " 3   Feature 4  400 non-null    float64\n",
            " 4   Feature 5  400 non-null    float64\n",
            " 5   Feature 6  400 non-null    float64\n",
            " 6   Feature 7  400 non-null    int64  \n",
            " 7   Target     400 non-null    int64  \n",
            "dtypes: float64(4), int64(4)\n",
            "memory usage: 25.1 KB\n",
            "None\n",
            "\n",
            "\n",
            "Columns in the dataset:\n",
            "Index(['Feature 1', 'Feature 2', 'Feature 3', 'Feature 4', 'Feature 5',\n",
            "       'Feature 6', 'Feature 7', 'Target'],\n",
            "      dtype='object')\n",
            "Training set size: (320, 7)\n",
            "Test set size: (80, 7)\n"
          ]
        }
      ],
      "source": [
        "# Your code goes here!\n",
        "\n",
        "\n",
        "# Load your data\n",
        "df = pd.read_csv('/content/Logistic_question.csv')\n",
        "df['Target'] = (df['Target'] > 0.5).astype(int)\n",
        "\n",
        "print(\"Shape of the dataset:\", df.shape)\n",
        "print(\"\\n\\nDataset information:\")\n",
        "print(df.info())\n",
        "print(\"\\n\\nColumns in the dataset:\")\n",
        "print(df.columns)\n",
        "\n",
        "\n",
        "X = df.drop('Target', axis=1).values\n",
        "y = df['Target'].values\n",
        "\n",
        "# Normalize the data\n",
        "scaler = StandardScaler()\n",
        "X = scaler.fit_transform(X)\n",
        "\n",
        "X_train, X_test, y_train, y_test = train_test_split(X,y, test_size=0.2, random_state=400101934)\n",
        "\n",
        "print(\"Training set size:\", X_train.shape)\n",
        "print(\"Test set size:\", X_test.shape)\n"
      ]
    },
    {
      "cell_type": "code",
      "source": [
        "# Create an instance of MyLogisticRegression\n",
        "model = MyLogisticRegression(lr=5e-2, epochs=1024, use_gpu=True)\n",
        "\n",
        "# Train the model\n",
        "model.fit(X_train, y_train)\n",
        "\n",
        "# Predict on test set\n",
        "predictions = model.predict(X_test)\n",
        "# y_test = (y_test > 0.5).astype(int)\n",
        "\n",
        "# You might want to check the accuracy using the actual labels from y_test\n",
        "predictions = predictions\n",
        "\n",
        "# Evaluation Metrics\n",
        "accuracy = accuracy_score(y_test, predictions)\n",
        "precision = precision_score(y_test, predictions)\n",
        "recall = recall_score(y_test, predictions)\n",
        "f1 = f1_score(y_test, predictions)\n",
        "\n",
        "print(f'\\n\\nAccuracy: {accuracy * 100:.2f}%')\n",
        "print(f'Precision: {precision * 100:.2f}%')\n",
        "print(f'Recall: {recall * 100:.2f}%')\n",
        "print(f'F1 Score: {f1 * 100:.2f}%')"
      ],
      "metadata": {
        "colab": {
          "base_uri": "https://localhost:8080/"
        },
        "id": "OYPSLq_oc6E2",
        "outputId": "84f1f07d-d10a-4d04-be3b-6eb53896f9a0"
      },
      "execution_count": 73,
      "outputs": [
        {
          "output_type": "stream",
          "name": "stdout",
          "text": [
            "Epoch 102/1024, Loss: 0.2579129934310913\n",
            "Epoch 204/1024, Loss: 0.22045278549194336\n",
            "Epoch 306/1024, Loss: 0.20152883231639862\n",
            "Epoch 408/1024, Loss: 0.18981564044952393\n",
            "Epoch 510/1024, Loss: 0.1817179173231125\n",
            "Epoch 612/1024, Loss: 0.1757262647151947\n",
            "Epoch 714/1024, Loss: 0.17108626663684845\n",
            "Epoch 816/1024, Loss: 0.16737394034862518\n",
            "Epoch 918/1024, Loss: 0.16433027386665344\n",
            "Epoch 1020/1024, Loss: 0.16178688406944275\n",
            "\n",
            "\n",
            "Accuracy: 93.75%\n",
            "Precision: 93.42%\n",
            "Recall: 100.00%\n",
            "F1 Score: 96.60%\n"
          ]
        }
      ]
    },
    {
      "cell_type": "markdown",
      "metadata": {
        "id": "Ji0RXNGKv1pa"
      },
      "source": [
        "**Question:** What are each of your used evaluation metrics? And for each one, mention situations in which they convey more data on the model performance in specific tasks."
      ]
    },
    {
      "cell_type": "markdown",
      "metadata": {
        "id": "ldveD35twRRZ"
      },
      "source": [
        "**Your answer:**\n",
        "\n",
        "### 1\\. **Accuracy**\n",
        "\n",
        "*   **Definition**: Proportion of correct predictions among the total number of cases.\n",
        "*   **Useful**: Best for balanced classes, providing a quick view of overall performance.\n",
        "\n",
        "### 2\\. **Precision**\n",
        "\n",
        "*   **Definition**: Ratio of correctly predicted positive observations to the total predicted positives.\n",
        "*   **Useful**: Important in scenarios where false positives are costly, such as email spam detection.\n",
        "\n",
        "### 3\\. **Recall (Sensitivity)**\n",
        "\n",
        "*   **Definition**: Ratio of correctly predicted positive observations to all actual positives.\n",
        "*   **Useful**: Crucial where missing a positive is costly, such as in medical diagnosis.\n",
        "\n",
        "### 4\\. **F1 Score**\n",
        "\n",
        "*   **Definition**: Weighted average of Precision and Recall.\n",
        "*   **Useful**: Best when there is an uneven class distribution and both types of prediction errors are similarly costly, such as in customer churn prediction."
      ]
    },
    {
      "cell_type": "markdown",
      "metadata": {
        "id": "1ZCeRHZSw-mh"
      },
      "source": [
        "**Task:** Now test the built-in function of Python for Logistic Regression, and report all the same metrics used before."
      ]
    },
    {
      "cell_type": "code",
      "execution_count": null,
      "metadata": {
        "id": "Vb5lRSQXDLR3",
        "colab": {
          "base_uri": "https://localhost:8080/"
        },
        "outputId": "e754e457-746e-47e2-f647-0c5490ed61d2"
      },
      "outputs": [
        {
          "output_type": "stream",
          "name": "stdout",
          "text": [
            "Accuracy using built-in logestic regression: 93.75%\n",
            "Precision using built-in logestic regression: 94.59%\n",
            "Recall using built-in logestic regression: 98.59%\n",
            "F1 Score using built-in logestic regression: 96.55%\n"
          ]
        }
      ],
      "source": [
        "# Your code goes here!\n",
        "\n",
        "\n",
        "builtin_model = LogisticRegression()\n",
        "builtin_model.fit(X_train, y_train)\n",
        "\n",
        "builtin_predictions = builtin_model.predict(X_test)\n",
        "\n",
        "builtin_accuracy = accuracy_score(y_test, builtin_predictions)\n",
        "builtin_precision = precision_score(y_test, builtin_predictions)\n",
        "builtin_recall = recall_score(y_test, builtin_predictions)\n",
        "builtin_f1 = f1_score(y_test, builtin_predictions)\n",
        "\n",
        "print(f'Accuracy using built-in logestic regression: {builtin_accuracy * 100:.2f}%')\n",
        "print(f'Precision using built-in logestic regression: {builtin_precision * 100:.2f}%')\n",
        "print(f'Recall using built-in logestic regression: {builtin_recall * 100:.2f}%')\n",
        "print(f'F1 Score using built-in logestic regression: {builtin_f1 * 100:.2f}%')\n",
        "\n"
      ]
    },
    {
      "cell_type": "markdown",
      "metadata": {
        "id": "RCvIymmMy_ji"
      },
      "source": [
        "**Question:** Compare your function with the built-in function. On the matters of performance and parameters. Briefly explain what the parameters of the built-in function are and how they affect the model's performance?"
      ]
    },
    {
      "cell_type": "markdown",
      "metadata": {
        "id": "EY0ohM16z3De"
      },
      "source": [
        "**Your answer:**\n",
        "\n",
        "### Performance Comparison:\n",
        "\n",
        "*   **Accuracy**: Built-in model (93.75%) outperforms the custom model (85.00%).\n",
        "*   **Precision**: Custom model is slightly higher (96.83% vs. 94.59%).\n",
        "*   **Recall**: Built-in model significantly higher (98.59% vs. 85.92%).\n",
        "*   **F1 Score**: Built-in model has a better balance (96.55% vs. 91.04%).\n",
        "\n",
        "### Key Parameters of `scikit-learn` Logistic Regression:\n",
        "\n",
        "*   **`penalty`**: Type of regularization (e.g., `l1`, `l2`) to prevent overfitting.\n",
        "*   **`C`**: Inverse of regularization strength; lower values mean stronger regularization.\n",
        "*   **`solver`**: Optimization algorithm choice (e.g., `liblinear`, `saga`), affects convergence.\n",
        "*   **`max_iter`**: Maximum iterations for solvers to converge, influencing model precision.\n",
        "*   **`class_weight`**: Adjusts weights for classes, useful in handling imbalanced data.\n",
        "\n",
        "### Impact of Parameters:\n",
        "\n",
        "*   Regularization (via `penalty` and `C`) manages overfitting, crucial for performance on unseen data.\n",
        "*   Solver choice affects the speed and accuracy of model training.\n",
        "*   Adjusting `max_iter` and `class_weight` can fine-tune the model to specific data characteristics, improving overall performance.\n",
        "\n"
      ]
    },
    {
      "cell_type": "markdown",
      "metadata": {
        "id": "ClMqoYlr2kr7"
      },
      "source": [
        "# Multinomial Logistic Regression"
      ]
    },
    {
      "cell_type": "markdown",
      "metadata": {
        "id": "ukvlqDe52xP5"
      },
      "source": [
        "**Task:** Implement your own Multinomial Logistic Regression model. Your model must be able to handle any number of labels!"
      ]
    },
    {
      "cell_type": "code",
      "execution_count": null,
      "metadata": {
        "id": "5Ir-_hFt286t"
      },
      "outputs": [],
      "source": [
        "\n",
        "\n",
        "class MyMultinomialLogisticRegression:\n",
        "    # Your code goes here!\n",
        "    # This class must have an __init__ method, a loss function, a fit function, and a predict function. You also need to make your code runnable on gpu!\n",
        "\n",
        "    def __init__(self, input_dim, output_dim, lr=0.001, use_gpu=False):\n",
        "        self.lr = lr  # Learning rate\n",
        "        self.input_dim = input_dim  # Number of features\n",
        "        self.output_dim = output_dim  # Number of classes\n",
        "        self.use_gpu = use_gpu and torch.cuda.is_available()  # GPU availability\n",
        "\n",
        "        # Model setup\n",
        "        self.model = nn.Linear(input_dim, output_dim)\n",
        "        if self.use_gpu:\n",
        "            self.model.cuda()  # Move model to GPU if available\n",
        "\n",
        "        # Loss function and optimizer\n",
        "        self.criterion = nn.CrossEntropyLoss()\n",
        "        self.optimizer = optim.SGD(self.model.parameters(), lr=self.lr)\n",
        "\n",
        "    def fit(self, X_train, y_train, epochs=100):\n",
        "        X_train = torch.tensor(X_train, dtype=torch.float32)\n",
        "        y_train = torch.tensor(y_train, dtype=torch.int64)\n",
        "        if self.use_gpu:\n",
        "            X_train, y_train = X_train.cuda(), y_train.cuda()\n",
        "\n",
        "        for epoch in range(epochs):\n",
        "            self.optimizer.zero_grad()  # Reset gradients\n",
        "            outputs = self.model(X_train)  # Forward pass\n",
        "            loss = self.criterion(outputs, y_train)  # Compute loss\n",
        "            loss.backward()  # Backward pass\n",
        "            self.optimizer.step()  # Update weights\n",
        "\n",
        "            # if (epoch+1) % 10 == 0:\n",
        "                # print(f'Epoch [{epoch+1}/{epochs}], Loss: {loss.item():.4f}')\n",
        "\n",
        "    def predict(self, X):\n",
        "        X = torch.tensor(X, dtype=torch.float32)\n",
        "        if self.use_gpu:\n",
        "            X = X.cuda()\n",
        "        outputs = self.model(X)\n",
        "        _, predicted = torch.max(outputs.data, 1)\n",
        "        return predicted.cpu().numpy() if self.use_gpu else predicted.numpy()\n",
        "\n",
        "\n"
      ]
    },
    {
      "cell_type": "code",
      "source": [
        "# import necessary libraries\n",
        "\n",
        "    # Your code goes here!\n",
        "    # This class must have an __init__ method, a loss function, a fit function, and a predict function. You also need to make your code runnable on gpu!\n",
        "\n",
        "\n",
        "class MyMultinomialLogisticRegression:\n",
        "    def __init__(self, input_dim, output_dim, lr=0.01, epochs=100, use_gpu=False):\n",
        "        self.lr = lr  # Learning rate\n",
        "        self.epochs = epochs  # Number of epochs for training\n",
        "        self.weights = None  # Weights for logistic regression, to be initialized later\n",
        "        self.input_dim, self.output_dim = input_dim, output_dim\n",
        "        self.use_gpu = use_gpu and torch.cuda.is_available()  # Use GPU if available and requested\n",
        "        if self.use_gpu:\n",
        "            self.device = torch.device(\"cuda\")\n",
        "        else:\n",
        "            self.device = torch.device(\"cpu\")\n",
        "\n",
        "    def softmax(self, z):\n",
        "        return torch.exp(z) / torch.sum(torch.exp(z), dim=1, keepdim=True)\n",
        "\n",
        "    def loss(self, h, y):\n",
        "        return -torch.mean(torch.log(h)[:, y])\n",
        "\n",
        "    def fit(self, X_train, y_train):\n",
        "        # Convert arrays to torch tensors\n",
        "        X_train = torch.tensor(X_train.astype(np.float32)).to(self.device)\n",
        "        y_train = torch.tensor(y_train).to(self.device)\n",
        "\n",
        "        # Initialize weights\n",
        "        self.weights = torch.zeros((self.input_dim, self.output_dim), dtype=torch.float32).to(self.device)\n",
        "        self.bias = torch.ones(self.output_dim, dtype=torch.float32, device=self.device)\n",
        "\n",
        "        # Training loop\n",
        "        for epoch in range(self.epochs):\n",
        "            # Forward pass\n",
        "            z = torch.matmul(X_train, self.weights)\n",
        "            h = self.softmax(z + self.bias)\n",
        "            # Calculate loss\n",
        "            l = self.loss(h, y_train)\n",
        "            one_hot_y = torch.eye(self.output_dim)[y_train].to(self.device)\n",
        "\n",
        "            dW = torch.matmul(X_train.t(), (h - one_hot_y)) / X_train.size(0)\n",
        "            db = torch.sum(h - one_hot_y) / X_train.size(0)\n",
        "\n",
        "            self.weights -= self.lr * dW\n",
        "            self.bias -= self.lr * db\n",
        "\n",
        "            # if (epoch+1) % (self.epochs // 100) == 0:\n",
        "                # print(f\"Epoch {epoch+1}/{self.epochs}, Loss: {l.item()}\")\n",
        "\n",
        "    def predict(self, X):\n",
        "        prob = self.predict_proba(X)\n",
        "        return torch.argmax(prob, dim=1)  # Return 1 if prob is greater than or equal to 0.5 else 0\n",
        "\n",
        "    def predict_proba(self, X):\n",
        "        # Convert to tensor\n",
        "        X = torch.tensor(X.astype(np.float32)).to(self.device)\n",
        "        # Compute probability\n",
        "        z = torch.matmul(X, self.weights)\n",
        "        prob = self.softmax(z + self.bias)\n",
        "        return prob.detach()\n",
        "\n",
        "\n"
      ],
      "metadata": {
        "id": "qRe2-QFissyt"
      },
      "execution_count": 86,
      "outputs": []
    },
    {
      "cell_type": "markdown",
      "metadata": {
        "id": "zPQ3Rtay3Y2_"
      },
      "source": [
        "**Task:** Test your model on the given dataset. Do the same as the previous part, but here you might want to first make the Target column quantized into $i$ levels. Change $i$ from 2 to 10."
      ]
    },
    {
      "cell_type": "code",
      "execution_count": 87,
      "metadata": {
        "id": "9aP4QJPq29B3",
        "colab": {
          "base_uri": "https://localhost:8080/"
        },
        "outputId": "5be2b236-4168-4bb1-c7ba-b9db083d510b"
      },
      "outputs": [
        {
          "output_type": "stream",
          "name": "stdout",
          "text": [
            "\n",
            "Testing with 2 quantization levels:\n",
            "Accuracy with 2 levels: 81.25%\n",
            "Precision with 2 levels: 81.44%\n",
            "Recall with 2 levels: 81.14%\n",
            "F1 Score with 2 levels: 81.18%\n",
            "\n",
            "Testing with 3 quantization levels:\n",
            "Accuracy with 3 levels: 61.25%\n",
            "Precision with 3 levels: 73.74%\n",
            "Recall with 3 levels: 67.23%\n",
            "F1 Score with 3 levels: 55.24%\n",
            "\n",
            "Testing with 4 quantization levels:\n",
            "Accuracy with 4 levels: 51.25%\n",
            "Precision with 4 levels: 49.94%\n",
            "Recall with 4 levels: 52.84%\n",
            "F1 Score with 4 levels: 43.41%\n",
            "\n",
            "Testing with 5 quantization levels:\n",
            "Accuracy with 5 levels: 42.50%\n",
            "Precision with 5 levels: 50.74%\n",
            "Recall with 5 levels: 46.93%\n",
            "F1 Score with 5 levels: 37.64%\n",
            "\n",
            "Testing with 6 quantization levels:\n",
            "Accuracy with 6 levels: 37.50%\n",
            "Precision with 6 levels: 43.25%\n",
            "Recall with 6 levels: 36.64%\n",
            "F1 Score with 6 levels: 27.58%\n",
            "\n",
            "Testing with 7 quantization levels:\n",
            "Accuracy with 7 levels: 37.50%\n",
            "Precision with 7 levels: 23.65%\n",
            "Recall with 7 levels: 35.99%\n",
            "F1 Score with 7 levels: 27.84%\n",
            "\n",
            "Testing with 8 quantization levels:\n",
            "Accuracy with 8 levels: 31.25%\n",
            "Precision with 8 levels: 31.68%\n",
            "Recall with 8 levels: 31.49%\n",
            "F1 Score with 8 levels: 24.55%\n",
            "\n",
            "Testing with 9 quantization levels:\n"
          ]
        },
        {
          "output_type": "stream",
          "name": "stderr",
          "text": [
            "/usr/local/lib/python3.10/dist-packages/sklearn/metrics/_classification.py:1344: UndefinedMetricWarning: Precision is ill-defined and being set to 0.0 in labels with no predicted samples. Use `zero_division` parameter to control this behavior.\n",
            "  _warn_prf(average, modifier, msg_start, len(result))\n"
          ]
        },
        {
          "output_type": "stream",
          "name": "stdout",
          "text": [
            "Accuracy with 9 levels: 33.75%\n",
            "Precision with 9 levels: 27.31%\n",
            "Recall with 9 levels: 35.80%\n",
            "F1 Score with 9 levels: 27.06%\n",
            "\n",
            "Testing with 10 quantization levels:\n",
            "Accuracy with 10 levels: 22.50%\n",
            "Precision with 10 levels: 13.33%\n",
            "Recall with 10 levels: 25.39%\n",
            "F1 Score with 10 levels: 16.92%\n"
          ]
        },
        {
          "output_type": "stream",
          "name": "stderr",
          "text": [
            "/usr/local/lib/python3.10/dist-packages/sklearn/metrics/_classification.py:1344: UndefinedMetricWarning: Precision is ill-defined and being set to 0.0 in labels with no predicted samples. Use `zero_division` parameter to control this behavior.\n",
            "  _warn_prf(average, modifier, msg_start, len(result))\n"
          ]
        }
      ],
      "source": [
        "# Your code goes here!\n",
        "\n",
        "data = pd.read_csv('/content/Logistic_question.csv')\n",
        "\n",
        "# You can adjust 'i' to change the number of quantization levels\n",
        "for i in range(2, 11):\n",
        "    print(f\"\\nTesting with {i} quantization levels:\")\n",
        "    # Quantize the target variable\n",
        "    data['Quantized_Target'] = pd.qcut(data['Target'], q=i, labels=False, duplicates='drop')\n",
        "\n",
        "    # Split the data into features and target\n",
        "    X = data.drop(['Target', 'Quantized_Target'], axis=1).values\n",
        "    y = data['Quantized_Target'].values\n",
        "\n",
        "    # Splitting the dataset into training and testing\n",
        "    X_train, X_test, y_train, y_test = train_test_split(X, y, test_size=0.2, random_state=400101934)\n",
        "\n",
        "    # Normalize the data\n",
        "    scaler = StandardScaler()\n",
        "    X_train = scaler.fit_transform(X_train)\n",
        "    X_test = scaler.transform(X_test)\n",
        "\n",
        "    # Define the dimensions for the model\n",
        "    input_dim = X_train.shape[1]\n",
        "    output_dim = len(np.unique(y_train))  # Number of unique classes\n",
        "\n",
        "    # Create an instance of MyMultinomialLogisticRegression\n",
        "    model = MyMultinomialLogisticRegression(input_dim, output_dim, lr=5e-2, use_gpu=True, epochs=1000)\n",
        "\n",
        "    # Train the model\n",
        "    model.fit(X_train, y_train)\n",
        "\n",
        "    # Predict on the test set\n",
        "    Multinomial_predictions = model.predict(X_test)\n",
        "\n",
        "    # Calculate accuracy (You can add more metrics as needed)\n",
        "    Multinomial_accuracy = accuracy_score(Multinomial_predictions, y_test)\n",
        "    Multinomial_precision = precision_score(y_test, Multinomial_predictions, average = 'macro')\n",
        "    Multinomial_recall = recall_score(y_test, Multinomial_predictions, average = 'macro')\n",
        "    Multinomial_f1 = f1_score(y_test, Multinomial_predictions, average = 'macro')\n",
        "\n",
        "    print(f'Accuracy with {i} levels: {Multinomial_accuracy * 100:.2f}%')\n",
        "    print(f'Precision with {i} levels: {Multinomial_precision * 100:.2f}%')\n",
        "    print(f'Recall with {i} levels: {Multinomial_recall * 100:.2f}%')\n",
        "    print(f'F1 Score with {i} levels: {Multinomial_f1 * 100:.2f}%')\n",
        "\n"
      ]
    },
    {
      "cell_type": "markdown",
      "metadata": {
        "id": "Of2sHl5Z4dXi"
      },
      "source": [
        "**Question:** Report for which $i$ your model performs best. Describe and analyze the results! You could use visualizations or any other method!"
      ]
    },
    {
      "cell_type": "markdown",
      "metadata": {
        "id": "cRLERDAr4wnS"
      },
      "source": [
        "**Your answer:**"
      ]
    },
    {
      "cell_type": "markdown",
      "metadata": {
        "id": "wT43jGKV6CBZ"
      },
      "source": [
        "# Going a little further!"
      ]
    },
    {
      "cell_type": "markdown",
      "metadata": {
        "id": "Vo9uGo0R6GZo"
      },
      "source": [
        "First we download Adult income dataset from Kaggle! In order to do this create an account on this website, and create an API. A file named kaggle.json will be downloaded to your device. Then use the following code:"
      ]
    },
    {
      "cell_type": "code",
      "execution_count": null,
      "metadata": {
        "id": "o-vrjYBF7u1E"
      },
      "outputs": [],
      "source": [
        "from google.colab import files\n",
        "files.upload()  # Use this to select the kaggle.json file from your computer\n",
        "!mkdir -p ~/.kaggle\n",
        "!cp kaggle.json ~/.kaggle/\n",
        "!chmod 600 ~/.kaggle/kaggle.json"
      ]
    },
    {
      "cell_type": "markdown",
      "metadata": {
        "id": "5i6u6_1v8ftX"
      },
      "source": [
        "Then use this code to automatically download the dataset into Colab."
      ]
    },
    {
      "cell_type": "code",
      "execution_count": null,
      "metadata": {
        "id": "XjyVaVKF29Hx",
        "colab": {
          "base_uri": "https://localhost:8080/"
        },
        "outputId": "ca92acf7-aaea-4be6-8f57-1628b9365d4b"
      },
      "outputs": [
        {
          "output_type": "stream",
          "name": "stdout",
          "text": [
            "Dataset URL: https://www.kaggle.com/datasets/wenruliu/adult-income-dataset\n",
            "License(s): unknown\n",
            "Downloading adult-income-dataset.zip to /content\n",
            "  0% 0.00/652k [00:00<?, ?B/s]\n",
            "100% 652k/652k [00:00<00:00, 107MB/s]\n",
            "Archive:  /content/adult-income-dataset.zip\n",
            "  inflating: adult.csv               \n"
          ]
        }
      ],
      "source": [
        "!kaggle datasets download -d wenruliu/adult-income-dataset\n",
        "!unzip /content/adult-income-dataset.zip"
      ]
    },
    {
      "cell_type": "markdown",
      "metadata": {
        "id": "EXQnbZwt8rJK"
      },
      "source": [
        "**Task:** Determine the number of null entries!"
      ]
    },
    {
      "cell_type": "code",
      "execution_count": 93,
      "metadata": {
        "id": "JtuEx6QW29c1",
        "colab": {
          "base_uri": "https://localhost:8080/"
        },
        "outputId": "2697ed8c-3a88-489b-b445-d691bb66c48a"
      },
      "outputs": [
        {
          "output_type": "stream",
          "name": "stdout",
          "text": [
            "The number of null entries per column:\n",
            " age                   0\n",
            "workclass          2799\n",
            "fnlwgt                0\n",
            "education             0\n",
            "educational-num       0\n",
            "marital-status        0\n",
            "occupation         2809\n",
            "relationship          0\n",
            "race                  0\n",
            "gender                0\n",
            "capital-gain          0\n",
            "capital-loss          0\n",
            "hours-per-week        0\n",
            "native-country      857\n",
            "income                0\n",
            "dtype: int64\n",
            "\n",
            "Data type of each column:\n",
            " age                 int64\n",
            "workclass          object\n",
            "fnlwgt              int64\n",
            "education          object\n",
            "educational-num     int64\n",
            "marital-status     object\n",
            "occupation         object\n",
            "relationship       object\n",
            "race               object\n",
            "gender             object\n",
            "capital-gain        int64\n",
            "capital-loss        int64\n",
            "hours-per-week      int64\n",
            "native-country     object\n",
            "income             object\n",
            "dtype: object\n",
            "\n",
            "Total number of null entries: 6465\n"
          ]
        }
      ],
      "source": [
        "# Your code goes here!\n",
        "df2 = pd.read_csv(\"adult.csv\")\n",
        "df2.replace(\"?\", np.nan, inplace=True)\n",
        "\n",
        "print(\"The number of null entries per column:\\n\",df2.isnull().sum())\n",
        "print(\"\\nData type of each column:\\n\",df2.dtypes)\n",
        "print(\"\\nTotal number of null entries:\", (df2.isnull().sum()).sum())\n"
      ]
    },
    {
      "cell_type": "markdown",
      "metadata": {
        "id": "JpEcBdTUAYVN"
      },
      "source": [
        "**Question:** In many widely used datasets there are a lot of null entries. Propose 5 methods by which, one could deal with this problem. Briefly explain how do you decide which one to use in this problem."
      ]
    },
    {
      "cell_type": "markdown",
      "metadata": {
        "id": "l1u1pBHuAsSg"
      },
      "source": [
        "**Your answer:**\n",
        "\n",
        "### 1\\. **Deletion**\n",
        "\n",
        "*   **Description**: Remove rows or columns with missing values.\n",
        "*   **Use When**: Large datasets where losing some data won't compromise the overall analysis.\n",
        "\n",
        "### 2\\. **Imputation with Mean/Median/Mode**\n",
        "\n",
        "*   **Description**: Replace missing values with the central tendency measure of the column.\n",
        "*   **Use When**: The missing data is numeric and missing at random, especially if the data distribution is not heavily skewed.\n",
        "\n",
        "### 3\\. **Predictive Imputation**\n",
        "\n",
        "*   **Description**: Use regression or classification models to estimate missing values based on other features.\n",
        "*   **Use When**: There are sufficient and relevant features that correlate with the missing data.\n",
        "\n",
        "### 4\\. **Using an Algorithm that Supports Missing Values**\n",
        "\n",
        "*   **Description**: Opt for machine learning algorithms designed to handle missing data directly, like certain decision trees.\n",
        "*   **Use When**: You prefer not to manipulate data before modeling and need a straightforward approach.\n",
        "\n",
        "### 5\\. **Imputation Using Multivariate Techniques**\n",
        "\n",
        "*   **Description**: Apply complex imputation methods like multiple imputation or k-nearest neighbors.\n",
        "*   **Use When**: Relationships between features are strong and can be leveraged to accurately predict missing values.\n",
        "\n",
        "### Decision Factors:\n",
        "\n",
        "Choose a method based on:\n",
        "\n",
        "*   **Data Size and Missingness**: More data allows for deletion; less data may require imputation.\n",
        "*   **Data Type**: Numerical or categorical data can dictate the choice of imputation technique.\n",
        "*   **Missing Data Mechanism**: Understand if data is missing at random or not, as this affects the suitability of the method.\n",
        "*   **Modeling Impact**: Consider how the method might affect subsequent analysis or model accuracy."
      ]
    },
    {
      "cell_type": "markdown",
      "metadata": {
        "id": "eHhH-hkpAxFf"
      },
      "source": [
        "**Task:** Handle null entries using your best method.\n",
        "\n",
        "\n"
      ]
    },
    {
      "cell_type": "code",
      "execution_count": 120,
      "metadata": {
        "id": "5fVwWcjK29fk",
        "colab": {
          "base_uri": "https://localhost:8080/"
        },
        "outputId": "4d3c93fa-336c-421a-d313-6d8a9afa4bc8"
      },
      "outputs": [
        {
          "output_type": "stream",
          "name": "stdout",
          "text": [
            "The number of null entries per column:\n",
            " age                0\n",
            "workclass          0\n",
            "fnlwgt             0\n",
            "education          0\n",
            "educational-num    0\n",
            "marital-status     0\n",
            "occupation         0\n",
            "relationship       0\n",
            "race               0\n",
            "gender             0\n",
            "capital-gain       0\n",
            "capital-loss       0\n",
            "hours-per-week     0\n",
            "native-country     0\n",
            "income             0\n",
            "dtype: int64\n",
            "\n",
            "Total number of null entries: 0\n"
          ]
        }
      ],
      "source": [
        "# Your code goes here!\n",
        "\n",
        "df2['workclass'].fillna(df2['workclass'].mode()[0], inplace=True)\n",
        "df2['occupation'].fillna(df2['occupation'].mode()[0], inplace=True)\n",
        "df2['native-country'].fillna(df2['native-country'].mode()[0], inplace=True)\n",
        "\n",
        "print(\"The number of null entries per column:\\n\",df2.isnull().sum())\n",
        "\n",
        "print(\"\\nTotal number of null entries:\", (df2.isnull().sum()).sum())\n"
      ]
    },
    {
      "cell_type": "markdown",
      "metadata": {
        "id": "43k5cTorCJaV"
      },
      "source": [
        "**Task:** Convert categorical features to numerical values. Split the dataset with 80-20 portion. Normalize all the data using X_train. Use the built-in Logistic Regression function and GridSearchCV to train your model, and report the parameters, train and test accuracy of the best model."
      ]
    },
    {
      "cell_type": "code",
      "source": [
        "import pandas as pd\n",
        "import numpy as np\n",
        "from sklearn.model_selection import train_test_split, GridSearchCV\n",
        "from sklearn.preprocessing import StandardScaler, OneHotEncoder\n",
        "from sklearn.compose import ColumnTransformer\n",
        "from sklearn.pipeline import Pipeline\n",
        "from sklearn.linear_model import LogisticRegression\n",
        "from sklearn.metrics import accuracy_score\n"
      ],
      "metadata": {
        "id": "lEfYtV8lzEPa"
      },
      "execution_count": 91,
      "outputs": []
    },
    {
      "cell_type": "code",
      "source": [
        "X = df2.drop('income', axis=1)\n",
        "y = df2['income']\n",
        "\n",
        "# Identify categorical and numerical columns\n",
        "categorical_features = X.select_dtypes(include=['object']).columns.tolist()\n",
        "numerical_features = X.select_dtypes(exclude=['object']).columns.tolist()\n",
        "\n",
        "# Creating a transformer to encode categorical variables and scale numerical variables\n",
        "preprocessor = ColumnTransformer(\n",
        "    transformers=[\n",
        "        ('cat', OneHotEncoder(handle_unknown='ignore'), categorical_features),\n",
        "        ('num', StandardScaler(), numerical_features)  # Apply StandardScaler only to numerical features\n",
        "    ])\n",
        "\n",
        "# Splitting the dataset\n",
        "X_train, X_test, y_train, y_test = train_test_split(X, y, test_size=0.2, random_state=42)\n",
        "\n",
        "# Define the model pipeline\n",
        "pipeline = Pipeline(steps=[\n",
        "    ('preprocessor', preprocessor),\n",
        "    ('classifier', LogisticRegression(solver='liblinear'))\n",
        "])\n",
        "\n",
        "# Define the parameter grid\n",
        "param_grid = {\n",
        "    'classifier__C': np.logspace(-4, 4, 10),  # Regularization parameter\n",
        "    'classifier__penalty': ['l1', 'l2'],      # Norms used for regularization\n",
        "    'classifier__max_iter': [100, 200, 300]\n",
        "}\n",
        "\n",
        "# Setup the GridSearchCV\n",
        "grid_search = GridSearchCV(pipeline, param_grid, cv=5, verbose=1, scoring='accuracy')\n",
        "\n",
        "# Fit the model\n",
        "grid_search.fit(X_train, y_train)\n",
        "\n",
        "# Best model, parameters, and scores\n",
        "print(\"Best parameters:\", grid_search.best_params_)\n",
        "print(\"Best cross-validation score: {:.2f}\".format(grid_search.best_score_))\n",
        "\n",
        "# Predictions and accuracy\n",
        "train_predictions = grid_search.predict(X_train)\n",
        "test_predictions = grid_search.predict(X_test)\n",
        "train_accuracy = accuracy_score(y_train, train_predictions)\n",
        "test_accuracy = accuracy_score(y_test, test_predictions)\n",
        "\n",
        "print(f'Train Accuracy: {train_accuracy * 100:.2f}%')\n",
        "print(f'Test Accuracy: {test_accuracy * 100:.2f}%')"
      ],
      "metadata": {
        "colab": {
          "base_uri": "https://localhost:8080/"
        },
        "id": "0-JKe3utzIlM",
        "outputId": "c3a45276-fd18-47ff-9e6b-accb403c52dc"
      },
      "execution_count": 98,
      "outputs": [
        {
          "output_type": "stream",
          "name": "stdout",
          "text": [
            "Fitting 5 folds for each of 60 candidates, totalling 300 fits\n",
            "Best parameters: {'classifier__C': 2.782559402207126, 'classifier__max_iter': 100, 'classifier__penalty': 'l2'}\n",
            "Best cross-validation score: 0.85\n",
            "Train Accuracy: 85.09%\n",
            "Test Accuracy: 85.60%\n"
          ]
        }
      ]
    },
    {
      "cell_type": "markdown",
      "metadata": {
        "id": "6Lzr2lqXDQ1T"
      },
      "source": [
        "**Task:** To try a different route, split X_train into $i$ parts, and train $i$ separate models on these parts. Now propose and implement 3 different *ensemble methods* to derive the global models' prediction for X_test using the results(not necessarily predictions!) of the $i$ models. Firstly, set $i=10$ to find the method with the best test accuracy(the answer is not general!). You must Use your own Logistic Regression model.(You might want to modify it a little bit for this part!)"
      ]
    },
    {
      "cell_type": "code",
      "source": [
        "from sklearn.preprocessing import LabelEncoder\n",
        "\n",
        "split_size = int(len(X_train) / 10)\n",
        "\n",
        "label_encoder = LabelEncoder()\n",
        "for column in df2.select_dtypes(include=['object']).columns:\n",
        "       df2[column] = label_encoder.fit_transform(df2[column])\n",
        "\n",
        "X = df2.drop('income', axis=1).values\n",
        "y = df2['income'].values\n",
        "\n",
        "X_train, X_test, y_train, y_test = train_test_split(X, y, test_size=0.2, random_state=42)\n",
        "models = []\n",
        "\n",
        "scaler = StandardScaler()\n",
        "X_train_scaled = scaler.fit_transform(X_train)\n",
        "X_test_scaled = scaler.transform(X_test)\n",
        "\n",
        "acc_models = []\n",
        "\n",
        "for i in range(10):\n",
        "    start = i * split_size\n",
        "    end = start + split_size if i < 9 else len(X_train)\n",
        "    X_part = X_train_scaled[start:end]\n",
        "    y_part = y_train[start:end]\n",
        "\n",
        "    model = MyLogisticRegression(epochs=1000, lr=1e-2, use_gpu=True)\n",
        "    model.fit(X_part, y_part, print_loss=False)\n",
        "    models.append(model)\n",
        "\n",
        "    predictions = model.predict(X_test_scaled)\n",
        "    accuracy = accuracy_score(y_test, predictions)\n",
        "    acc_models.append(accuracy)\n",
        "\n",
        "print('Accuracy for each model:')\n",
        "acc_models"
      ],
      "metadata": {
        "colab": {
          "base_uri": "https://localhost:8080/"
        },
        "id": "hXvEBetH769p",
        "outputId": "bcde9709-f00b-4a71-e388-df03174519ed"
      },
      "execution_count": 136,
      "outputs": [
        {
          "output_type": "stream",
          "name": "stdout",
          "text": [
            "Accuracy for each model:\n"
          ]
        },
        {
          "output_type": "execute_result",
          "data": {
            "text/plain": [
              "[0.8250588596581021,\n",
              " 0.8211690039922203,\n",
              " 0.8204524516327157,\n",
              " 0.8246494011669567,\n",
              " 0.8241375780530249,\n",
              " 0.8224997440884431,\n",
              " 0.8235233903163067,\n",
              " 0.8210666393694339,\n",
              " 0.8242399426758112,\n",
              " 0.8260825058859658]"
            ]
          },
          "metadata": {},
          "execution_count": 136
        }
      ]
    },
    {
      "cell_type": "code",
      "source": [
        "def majority_voting(models, X_test):\n",
        "    predictions = np.array([model.predict(X_test) for model in models])\n",
        "    mean_pred = np.mean(predictions, axis=0)\n",
        "    ensemble_pred = mean_pred > 0.5\n",
        "    return ensemble_pred.astype(int)\n",
        "\n",
        "def average_probabilities(models, X_test):\n",
        "    probs = np.array([model.predict_proba(X_test) for model in models])\n",
        "    mean_prob = np.mean(probs, axis=0)\n",
        "    ensemble_pred = mean_prob > 0.5\n",
        "    return ensemble_pred.astype(int)\n",
        "\n",
        "def weighted_average_probabilities(models, X_test, acc_models):\n",
        "    weights = acc_models\n",
        "    probabilities = np.array([model.predict_proba(X_test) for model in models])\n",
        "    weighted_average_prob = np.average(probabilities, axis=0, weights=weights)\n",
        "    ensemble_predictions = weighted_average_prob >= 0.5\n",
        "    return ensemble_predictions.astype(int)\n"
      ],
      "metadata": {
        "id": "cwpQEz3w7ntV"
      },
      "execution_count": 141,
      "outputs": []
    },
    {
      "cell_type": "code",
      "source": [
        "# # Evaluate ensemble methods on test set\n",
        "# X_test_scaled = scaler.transform(X_test)\n",
        "y_pred_majority_voting = majority_voting(models, X_test_scaled)\n",
        "y_pred_average_probabilities = average_probabilities(models, X_test_scaled)\n",
        "y_pred_weighted_average_probabilities = weighted_average_probabilities(models, X_test_scaled, acc_models)\n",
        "\n",
        "# Calculate test accuracy for each ensemble method\n",
        "accuracy_majority_voting = accuracy_score(y_test, y_pred_majority_voting)\n",
        "accuracy_average_probabilities = accuracy_score(y_test, y_pred_average_probabilities)\n",
        "accuracy_weighted_average_probabilities = accuracy_score(y_test, y_pred_weighted_average_probabilities)\n",
        "\n",
        "print(f\"Test Accuracy (Majority Voting): {accuracy_majority_voting * 100}\")\n",
        "print(f\"Test Accuracy (Average Probabilities): {accuracy_average_probabilities * 100}\")\n",
        "print(f\"Test Accuracy (Weighted Average Probabilities): {accuracy_weighted_average_probabilities * 100}\")"
      ],
      "metadata": {
        "colab": {
          "base_uri": "https://localhost:8080/"
        },
        "id": "UQ1YnoJxKr7_",
        "outputId": "3fd636d7-48ab-4c51-e54e-8db40afcefc3"
      },
      "execution_count": 143,
      "outputs": [
        {
          "output_type": "stream",
          "name": "stdout",
          "text": [
            "Test Accuracy (Majority Voting): 82.44446719213839\n",
            "Test Accuracy (Average Probabilities): 82.45470365441705\n",
            "Test Accuracy (Weighted Average Probabilities): 82.45470365441705\n"
          ]
        }
      ]
    },
    {
      "cell_type": "markdown",
      "metadata": {
        "id": "9QS9HYJ5FW1T"
      },
      "source": [
        "**Question:** Explain your proposed methods and the reason you decided to use them!"
      ]
    },
    {
      "cell_type": "markdown",
      "metadata": {
        "id": "6hCBQuAeF46a"
      },
      "source": [
        "**Your answer:**\n",
        "\n",
        "### Ensemble Methods Used:\n",
        "- **Majority Voting:** Each model votes for a class, and the class with the most votes is chosen. This method is robust, reducing the influence of outliers and noise from individual model predictions.\n",
        "- **Average Probabilities:** Probabilities for each class from all models are averaged, and the class with the highest average probability is selected. This method is effective when models provide reliable probability estimates, smoothing out variations in model predictions.\n",
        "- **Weighted Average Probabilities:** Similar to averaging probabilities, but each model's contribution is weighted by its accuracy. This method maximizes the impact of more reliable models on the final prediction, enhancing overall accuracy.\n",
        "\n",
        "### Results:\n",
        "- Majority Voting Accuracy: 82.44%\n",
        "- Average Probabilities Accuracy: 82.45%\n",
        "- Weighted Average Probabilities Accuracy: 82.45%\n",
        "\n",
        "We will choose Weighted Average Probabilities for the next section"
      ]
    },
    {
      "cell_type": "markdown",
      "metadata": {
        "id": "jjSREvg4FTHf"
      },
      "source": [
        "**Task:** Now, for your best method, change $i$ from 2 to 100 and report $i$, train and test accuracy of the best model. Also, plot test and train accuracy for $2\\leq i\\leq100$."
      ]
    },
    {
      "cell_type": "code",
      "execution_count": 146,
      "metadata": {
        "id": "tfKS-Jq0-v4P",
        "colab": {
          "base_uri": "https://localhost:8080/"
        },
        "outputId": "3628f6be-1e94-4ea8-ae6b-09afed4312dc"
      },
      "outputs": [
        {
          "output_type": "stream",
          "name": "stderr",
          "text": [
            "100%|██████████| 99/99 [36:13<00:00, 21.96s/it]\n"
          ]
        }
      ],
      "source": [
        "# Your code goes here!\n",
        "from tqdm import tqdm\n",
        "acc_train = []\n",
        "acc_test  = []\n",
        "for i in tqdm(range(2, 101)):\n",
        "  split_size = int(len(X_train) / i)\n",
        "  acc_models = []\n",
        "  models = []\n",
        "  for j in range(i):\n",
        "      start = j * split_size\n",
        "      end = start + split_size if j < 9 else len(X_train)\n",
        "      X_part = X_train_scaled[start:end]\n",
        "      y_part = y_train[start:end]\n",
        "\n",
        "      model = MyLogisticRegression(epochs=1000, lr=1e-2, use_gpu=True)\n",
        "      model.fit(X_part, y_part, print_loss=False)\n",
        "      models.append(model)\n",
        "\n",
        "      predictions = model.predict(X_test_scaled)\n",
        "      accuracy = accuracy_score(y_test, predictions)\n",
        "      acc_models.append(accuracy)\n",
        "  y_pred_weighted_average_probabilities = weighted_average_probabilities(\n",
        "      models, X_test_scaled, acc_models\n",
        "  )\n",
        "  accuracy_test = accuracy_score(\n",
        "      y_test, y_pred_weighted_average_probabilities\n",
        "  )\n",
        "  y_pred_weighted_average_probabilities = weighted_average_probabilities(\n",
        "      models, X_train_scaled, acc_models\n",
        "  )\n",
        "  accuracy_train = accuracy_score(\n",
        "      y_train, y_pred_weighted_average_probabilities\n",
        "  )\n",
        "\n",
        "  acc_train.append(accuracy_train)\n",
        "  acc_test.append(accuracy_test)"
      ]
    },
    {
      "cell_type": "code",
      "source": [
        "import matplotlib.pyplot as plt\n",
        "\n",
        "plt.figure(figsize=(10, 6))\n",
        "plt.plot(range(2, 101), acc_test, label='Test Accuracy')\n",
        "plt.plot(range(2, 101), acc_train, label='Train Accuracy')\n",
        "plt.xlabel('Number of Models (i)')\n",
        "plt.ylabel('Accuracy')\n",
        "plt.title('Test Accuracy vs Number of Models (i)')\n",
        "plt.axvline(x=np.argmax(acc_test) + 2, color='r', linestyle='--', label=f'Best i = {np.argmax(acc_test) + 2}, Accuracy = {max(acc_test) * 100:.2f}%')\n",
        "plt.legend()\n",
        "plt.grid(True)\n",
        "plt.show()"
      ],
      "metadata": {
        "colab": {
          "base_uri": "https://localhost:8080/",
          "height": 564
        },
        "id": "v_WGs5obS3nT",
        "outputId": "4dafce53-ef8c-4f48-c8d5-dfc7a2997aed"
      },
      "execution_count": 148,
      "outputs": [
        {
          "output_type": "display_data",
          "data": {
            "text/plain": [
              "<Figure size 1000x600 with 1 Axes>"
            ],
            "image/png": "[encoded data removed]"
          },
          "metadata": {}
        }
      ]
    },
    {
      "cell_type": "markdown",
      "metadata": {
        "id": "BWV0YUgRGg1p"
      },
      "source": [
        "**Question:** Analyze the results."
      ]
    },
    {
      "cell_type": "markdown",
      "metadata": {
        "id": "EmX9G_LRX-Qi"
      },
      "source": [
        "**Your Answer:**\n",
        "\n",
        "In this analysis, the optimal number of models for the ensemble is **20**. With 20 models, the training accuracy reaches **82.51%**, showing good generalization. Adding more models initially improves test performance by increasing prediction diversity. However, too many models lead to overfitting, where the ensemble memorizes rather than generalizes, decreasing effectiveness on new data. This highlights the need for a balance between model complexity and generalization, with a moderate number of models achieving the best results."
      ]
    },
    {
      "cell_type": "code",
      "source": [],
      "metadata": {
        "id": "AM6pSdtdbphI"
      },
      "execution_count": null,
      "outputs": []
    }
  ],
  "metadata": {
    "colab": {
      "provenance": []
    },
    "kernelspec": {
      "display_name": "Python 3",
      "name": "python3"
    },
    "language_info": {
      "name": "python"
    }
  },
  "nbformat": 4,
  "nbformat_minor": 0
}